{
 "cells": [
  {
   "cell_type": "markdown",
   "metadata": {},
   "source": [
    "![](./media/dte-header.jpg)\n",
    "<a id=\"top\">"
   ]
  },
  {
   "cell_type": "markdown",
   "metadata": {},
   "source": [
    "# Db2 11.5 External Tables\n",
    "Welcome to this Db2 lab that highlights the ability to access External Tables with Db2 11.5. This system demonstrates this feature through the use of Jupyter notebooks. If you are not familiar with the use of Jupyter notebooks or Python, the following notebook will guide you through their usage.\n",
    "\n",
    "* [An Introduction to Jupyter Notebooks](./An_Introduction_to_Jupyter_Notebooks.ipynb)\n",
    "\n",
    "These set of notebooks covers the External Table features only. If you want more details on the features within Db2 11.5 then you may want to examine the available labs at [IBM Demos]( https://www.ibm.com/demos/search/?product=%22Db2%20Database%22).\n",
    "\n",
    "* [An Introduction to External Tables](./Db2_11.5_External_Tables.ipynb)"
   ]
  },
  {
   "cell_type": "markdown",
   "metadata": {},
   "source": [
    "## Db2 Magic Commands\n",
    "\n",
    "Db2 Magic commands are used in all of the notebooks used in the previous section. The following notebook provides a tutorial on basics of using the Db2 magic commands.\n",
    "\n",
    "* [An Introduction to Db2 Magic Commands](./Db2_Jupyter_Extensions_Tutorial.ipynb)"
   ]
  },
  {
   "cell_type": "markdown",
   "metadata": {},
   "source": [
    "#### Questions and Comments: Phil Downey [phil.downey1@ibm.com], George Baklarz [baklarz@ca.ibm.com]"
   ]
  }
 ],
 "metadata": {
  "kernelspec": {
   "display_name": "Python 3",
   "language": "python",
   "name": "python3"
  },
  "language_info": {
   "codemirror_mode": {
    "name": "ipython",
    "version": 3
   },
   "file_extension": ".py",
   "mimetype": "text/x-python",
   "name": "python",
   "nbconvert_exporter": "python",
   "pygments_lexer": "ipython3",
   "version": "3.7.4"
  }
 },
 "nbformat": 4,
 "nbformat_minor": 2
}
