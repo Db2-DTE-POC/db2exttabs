{
 "cells": [
  {
   "cell_type": "markdown",
   "metadata": {},
   "source": [
    "# DTE Notebook Extensions\n",
    "Version: 2019-11-19"
   ]
  },
  {
   "cell_type": "markdown",
   "metadata": {},
   "source": [
    "This code is imported as a Jupyter notebook extension in any notebooks you want to add Youtube videos or slide from Slideware.\n",
    "<pre>\n",
    "&#37;run dte.ipynb\n",
    "</pre>\n",
    "\n",
    "This code defines a Jupyter/Python magic command called `%youtube` which allows you to show Youtube videos and `%slideshare` which will load slideware information."
   ]
  },
  {
   "cell_type": "code",
   "execution_count": 1,
   "metadata": {},
   "outputs": [],
   "source": [
    "#\n",
    "# Set up Jupyter MAGIC commands \"youtube\" and \"slides\". \n",
    "#\n",
    "# IBM 2019: George Baklarz\n",
    "# Version 2019-10-03\n",
    "#\n",
    "\n",
    "from __future__ import print_function\n",
    "from IPython.display import HTML as pHTML, Image as pImage, display as pdisplay, Javascript as Javascript\n",
    "from IPython.core.magic import (Magics, magics_class, line_magic,\n",
    "                                cell_magic, line_cell_magic, needs_local_scope)\n",
    "\n",
    "@magics_class\n",
    "class DTE(Magics):\n",
    "    \n",
    "    @needs_local_scope    \n",
    "    @line_cell_magic\n",
    "    def youtube(self, line, cell=None, local_ns=None):\n",
    "        \n",
    "\n",
    "        # Nothing to do if you sent me an empty string\n",
    "        if (line.strip == ''):\n",
    "            return\n",
    "        #  src=\"{0}?autoplay=1\" allow=\"autoplay\"> <- If you want the video to start automatically\n",
    "        html_string = \"\"\"\n",
    "        <iframe width=\"560\" height=\"315\" \n",
    "           src=\"{0}\">\n",
    "        </iframe>\n",
    "        \"\"\"\n",
    "        pdisplay(pHTML(html_string.format(line)))\n",
    "        return\n",
    "   \n",
    "    @needs_local_scope    \n",
    "    @line_cell_magic\n",
    "    def slideshare(self, line, cell=None, local_ns=None):\n",
    "        \n",
    "        # Nothing to do if you sent me an empty string\n",
    "        \n",
    "        if (line.strip == ''):\n",
    "            return\n",
    "        \n",
    "        html_string = \"\"\"\n",
    "        <iframe width=\"800\" height=\"500\"\n",
    "           src=\"{0}\">\n",
    "        </iframe> \n",
    "        \"\"\"\n",
    "        pdisplay(pHTML(html_string.format(line)))\n",
    "        return\n",
    "\n",
    "\n",
    "            \n",
    "# Register the Magic extension in Jupyter    \n",
    "ip = get_ipython()          \n",
    "ip.register_magics(DTE)\n",
    "\n",
    "#### Credits: IBM 2019, George Baklarz [baklarz@ca.ibm.com]"
   ]
  },
  {
   "cell_type": "code",
   "execution_count": null,
   "metadata": {},
   "outputs": [],
   "source": []
  }
 ],
 "metadata": {
  "kernelspec": {
   "display_name": "Python 3",
   "language": "python",
   "name": "python3"
  },
  "language_info": {
   "codemirror_mode": {
    "name": "ipython",
    "version": 3
   },
   "file_extension": ".py",
   "mimetype": "text/x-python",
   "name": "python",
   "nbconvert_exporter": "python",
   "pygments_lexer": "ipython3",
   "version": "3.7.4"
  }
 },
 "nbformat": 4,
 "nbformat_minor": 2
}
